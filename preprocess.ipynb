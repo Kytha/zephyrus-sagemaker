{
 "cells": [
  {
   "cell_type": "code",
   "execution_count": null,
   "id": "db005757-b090-4b66-806f-44b1873847ce",
   "metadata": {},
   "outputs": [],
   "source": [
    "%pip install python-dotenv\n",
    "%pip install pypandoc\n",
    "%pip install tiktoken\n",
    "%pip install unstructured"
   ]
  },
  {
   "cell_type": "code",
   "execution_count": null,
   "id": "c14795e7-6dd4-41c2-998c-b277f2d91f72",
   "metadata": {},
   "outputs": [],
   "source": [
    "import os\n",
    "import re\n",
    "import shutil\n",
    "import requests\n",
    "import pandas as pd\n",
    "from tqdm import tqdm\n",
    "from langchain_community.document_loaders import UnstructuredRSTLoader\n",
    "from langchain.text_splitter import TokenTextSplitter\n",
    "from glob import glob\n",
    "from transformers import AutoTokenizer\n",
    "from dotenv import load_dotenv\n",
    "import boto3\n",
    "DATA_PATH=\"./data\"\n",
    "SAGEMAKER_S3_BUCKET=\"sagemaker-studio-412356575323-guqzsetziqj\""
   ]
  },
  {
   "cell_type": "code",
   "execution_count": null,
   "id": "066266e2-01f1-40c7-8a25-0c866e16df40",
   "metadata": {},
   "outputs": [],
   "source": [
    "AIRFLOW_VERSION = \"2.9.1\"\n",
    "url = f\"https://github.com/apache/airflow/releases/download/{AIRFLOW_VERSION}/apache-airflow-{AIRFLOW_VERSION}-source.tar.gz\"\n",
    "airflow_zip_path = os.path.join(DATA_PATH, f\"apache-airflow-{AIRFLOW_VERSION}-source.tar.gz\")\n",
    "response = requests.get(url)\n",
    "if response.status_code == 200:\n",
    "    with open(airflow_zip_path, 'wb') as file:\n",
    "        file.write(response.content)\n",
    "    print(f\"Successfully downloaded airflow {AIRFLOW_VERSION} source code to {airflow_zip_path}.\")\n",
    "else:\n",
    "    print(f\"Failed to download the repository: {response.status_code}\")\n",
    "    raise Exception(f\"Download failed with status code: {response.status_code}\")"
   ]
  },
  {
   "cell_type": "code",
   "execution_count": null,
   "id": "44819018-33ab-4d47-9122-078c7a5e201c",
   "metadata": {},
   "outputs": [],
   "source": [
    "load_dotenv()\n",
    "huggingface_token = os.getenv('HF_API_TOKEN')"
   ]
  },
  {
   "cell_type": "code",
   "execution_count": null,
   "id": "ed4bcc48-a7d7-4c32-a0d0-dac2a638f98c",
   "metadata": {},
   "outputs": [],
   "source": [
    "CHUNK_SIZE = 256\n",
    "shutil.unpack_archive(airflow_zip_path, \"./data\", \"gztar\")\n",
    "airflow_docs_path = os.path.join(DATA_PATH, f\"apache-airflow-{AIRFLOW_VERSION}\", \"docs\")\n",
    "files = glob(f\"{airflow_docs_path}/**/*.rst\", recursive=True)\n",
    "tokenizer = AutoTokenizer.from_pretrained(\"mistralai/Mistral-7B-Instruct-v0.2\", token=huggingface_token)\n",
    "token_splitter = TokenTextSplitter(chunk_size=CHUNK_SIZE, chunk_overlap=0)\n",
    "all_text = []\n",
    "for filepath in tqdm(files):\n",
    "    rst_loader = UnstructuredRSTLoader(filepath, mode=\"single\")\n",
    "    docs = rst_loader.load()\n",
    "    for doc in docs:\n",
    "        text = doc.page_content\n",
    "        text = re.sub(r'\\s+', ' ', text)  # Remove extra whitespace\n",
    "        text = re.sub(r'\\n+', ' ', text)  # Remove newlines\n",
    "        text = re.sub(r'[^\\w\\s]', '', text)  # Remove punctuation\n",
    "        blocks = token_splitter.split_text(text)\n",
    "        for block in blocks:\n",
    "            token_length = len(tokenizer.encode(block))\n",
    "            if token_length > CHUNK_SIZE:\n",
    "                all_text.append(block + tokenizer.eos_token)\n",
    "result = pd.Series(all_text)\n",
    "result.to_csv(os.path.join(DATA_PATH, \"dataset.csv\"), index = False)"
   ]
  },
  {
   "cell_type": "code",
   "execution_count": null,
   "id": "e81b5cac-6fc0-4e4b-b2cf-3a002631400f",
   "metadata": {},
   "outputs": [],
   "source": [
    "s3 = boto3.Session().resource(\"s3\")\n",
    "s3.meta.client.upload_file(os.path.join(DATA_PATH, \"dataset.csv\"), SAGEMAKER_S3_BUCKET, 'zephyrus/data/airflow_dataset.csv')"
   ]
  },
  {
   "cell_type": "code",
   "execution_count": null,
   "id": "b8e48b11-9732-40ec-a893-8ad8dd9f6911",
   "metadata": {},
   "outputs": [],
   "source": []
  }
 ],
 "metadata": {
  "kernelspec": {
   "display_name": "Python 3 (ipykernel)",
   "language": "python",
   "name": "python3"
  },
  "language_info": {
   "codemirror_mode": {
    "name": "ipython",
    "version": 3
   },
   "file_extension": ".py",
   "mimetype": "text/x-python",
   "name": "python",
   "nbconvert_exporter": "python",
   "pygments_lexer": "ipython3",
   "version": "3.10.14"
  }
 },
 "nbformat": 4,
 "nbformat_minor": 5
}
