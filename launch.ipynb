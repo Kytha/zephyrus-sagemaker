{
 "cells": [
  {
   "cell_type": "code",
   "execution_count": null,
   "id": "e5033c2e-5b27-46fb-93f9-c91ea6f24f57",
   "metadata": {},
   "outputs": [],
   "source": [
    "!pip install python-dotenv"
   ]
  },
  {
   "cell_type": "code",
   "execution_count": null,
   "id": "bd9b46ee-9437-4502-a800-7fce2f86aca9",
   "metadata": {},
   "outputs": [],
   "source": [
    "import sagemaker\n",
    "import boto3\n",
    "sess = sagemaker.Session()\n",
    "role = sagemaker.get_execution_role()\n",
    "sagemaker_session_bucket = sess.default_bucket()\n",
    "print(f\"sagemaker role arn: {role}\")\n",
    "print(f\"sagemaker bucket: {sess.default_bucket()}\")\n",
    "print(f\"sagemaker session region: {sess.boto_region_name}\")"
   ]
  },
  {
   "cell_type": "code",
   "execution_count": null,
   "id": "cc481e54-ea42-45ad-b634-6e04ac4a222f",
   "metadata": {},
   "outputs": [],
   "source": [
    "from sagemaker.huggingface import HuggingFace\n",
    "import os\n",
    "from dotenv import load_dotenv\n",
    "\n",
    "load_dotenv()\n",
    "# Access the Hugging Face API token\n",
    "hugging_face_api_token = os.getenv('HUGGING_FACE_API_TOKEN')\n",
    "\n",
    "hyperparameters={\n",
    "    \"epochs\": 2,                                # number of training epochs\n",
    "    \"batch_size\": 1,                            # training batch size\n",
    "    \"model_name\":\"mistralai/Mistral-7B-Instruct-v0.2\",  # name of pretrained model\n",
    "    \"hf_token\": hugging_face_api_token,\n",
    "    \"bucket_name\": sess.default_bucket(),\n",
    "    \"data_key\": \"zephyrus/data/airflow_dataset.csv\",\n",
    "    \"max_length\": 256\n",
    "}\n"
   ]
  },
  {
   "cell_type": "code",
   "execution_count": null,
   "id": "8da5ef6f-2170-44c6-9809-458f8d3abc8b",
   "metadata": {},
   "outputs": [],
   "source": [
    "print(hyperparameters)\n",
    "huggingface_estimator = HuggingFace(\n",
    "    entry_point=\"train.py\",                 # fine-tuning script to use in training job\n",
    "    source_dir=\"./training_job\",            # directory where fine-tuning script is stored\n",
    "    instance_type=\"ml.p3.8xlarge\",          # instance type\n",
    "    instance_count=1,                       # number of instances\n",
    "    role=role,                             # IAM role used in training job to acccess AWS resources (S3)\n",
    "    transformers_version='4.26.0',\n",
    "    pytorch_version='1.13.1',\n",
    "    py_version='py39',                   # Python version\n",
    "    volume_size=80,\n",
    "    hyperparameters=hyperparameters         # hyperparameters to use in training job\n",
    ")"
   ]
  },
  {
   "cell_type": "code",
   "execution_count": null,
   "id": "7ae40c31-be74-439e-af9f-70d68ece3f29",
   "metadata": {},
   "outputs": [],
   "source": [
    "huggingface_estimator.fit()"
   ]
  }
 ],
 "metadata": {
  "kernelspec": {
   "display_name": "Python 3 (ipykernel)",
   "language": "python",
   "name": "python3"
  },
  "language_info": {
   "codemirror_mode": {
    "name": "ipython",
    "version": 3
   },
   "file_extension": ".py",
   "mimetype": "text/x-python",
   "name": "python",
   "nbconvert_exporter": "python",
   "pygments_lexer": "ipython3",
   "version": "3.10.14"
  }
 },
 "nbformat": 4,
 "nbformat_minor": 5
}
