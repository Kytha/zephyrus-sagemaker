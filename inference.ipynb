{
 "cells": [
  {
   "cell_type": "code",
   "execution_count": null,
   "id": "b7cb30bd-cacd-467e-873e-f5b66da39578",
   "metadata": {},
   "outputs": [],
   "source": [
    "!pip install python-dotenv\n",
    "!pip install --upgrade sagemaker"
   ]
  },
  {
   "cell_type": "code",
   "execution_count": 43,
   "id": "27eb5e3f-9602-42c0-9c2f-f0084686e5a8",
   "metadata": {},
   "outputs": [],
   "source": [
    "import sagemaker\n",
    "import os\n",
    "from dotenv import load_dotenv\n",
    "\n",
    "sess = sagemaker.Session()\n",
    "role = sagemaker.get_execution_role()\n",
    "SAGEMAKER_S3_BUCKET=\"sagemaker-us-west-2-412356575323\"\n",
    "\n",
    "load_dotenv()\n",
    "hugging_face_api_token = os.getenv('HUGGING_FACE_API_TOKEN')"
   ]
  },
  {
   "cell_type": "code",
   "execution_count": 44,
   "id": "03d0c31a-e93a-44d8-8974-8feab99bcd82",
   "metadata": {},
   "outputs": [],
   "source": [
    "import json\n",
    "from sagemaker.huggingface import HuggingFaceModel, get_huggingface_llm_image_uri\n",
    "\n",
    "environment = {\n",
    "    \"HF_API_TOKEN\": hugging_face_api_token,\n",
    "    \"HF_MODEL_ID\": \"mistralai/Mistral-7B-Instruct-v0.2\",\n",
    "    \"HF_MODEL_QUANTIZE\": \"bitsandbytes\",\n",
    "    \"TRUST_REMOTE_CODE\": json.dumps(True),\n",
    "    'SM_NUM_GPUS': json.dumps(1),\n",
    "    \"HF_TASK\": \"text-generation\"\n",
    "}\n",
    "\n",
    "environment_finetuned = {\n",
    "    \"HF_API_TOKEN\": hugging_face_api_token,\n",
    "    \"HF_MODEL_QUANTIZE\": \"bitsandbytes\",\n",
    "    \"TRUST_REMOTE_CODE\": json.dumps(True),\n",
    "    'SM_NUM_GPUS': json.dumps(1),\n",
    "    \"HF_TASK\": \"text-generation\"\n",
    "}\n",
    "\n",
    "image_uri = get_huggingface_llm_image_uri(\n",
    "  backend=\"huggingface\",\n",
    "  region=sess.boto_region_name\n",
    ")\n",
    "\n",
    "base_model = HuggingFaceModel(\n",
    "   role=role,\n",
    "   transformers_version=\"4.37\",\n",
    "   pytorch_version=\"2.1\",\n",
    "   py_version='py310',\n",
    "   env=environment,\n",
    "   model_server_workers=1,\n",
    "   image_uri=image_uri\n",
    ")\n",
    "finetuned_model = HuggingFaceModel(\n",
    "    model_data=\"s3://sagemaker-us-west-2-412356575323/models/zephyrus-v02.tar.gz\",\n",
    "   role=role,\n",
    "   transformers_version=\"4.37\",\n",
    "   pytorch_version=\"2.1\",\n",
    "   py_version='py310',\n",
    "   env=environment_finetuned,\n",
    "   model_server_workers=1,\n",
    "   image_uri=image_uri\n",
    ")"
   ]
  },
  {
   "cell_type": "code",
   "execution_count": 45,
   "id": "5b738305-5f5a-41e8-8414-7ca5ede63f7b",
   "metadata": {},
   "outputs": [
    {
     "name": "stdout",
     "output_type": "stream",
     "text": [
      "---------------!"
     ]
    }
   ],
   "source": [
    "predictor = huggingface_model.deploy(\n",
    "   initial_instance_count=1,\n",
    "   instance_type=\"ml.g5.xlarge\",\n",
    ")\n",
    "finetuned_predictor = huggingface_model.deploy(\n",
    "   initial_instance_count=1,\n",
    "   instance_type=\"ml.g5.xlarge\",\n",
    ")"
   ]
  },
  {
   "cell_type": "code",
   "execution_count": null,
   "id": "d04a08f5-32bf-48b3-9dff-04936ae12036",
   "metadata": {},
   "outputs": [],
   "source": [
    "data = {\n",
    "   \"inputs\": \"<s>[INST] What is apache airflow? [/INST]\",\n",
    "    \"parameters\": {\n",
    "        \"max_new_tokens\": 200,\n",
    "        \"temperature\": 0.9\n",
    "    }\n",
    "}\n",
    "base_result = predictor.predict(data)\n",
    "finetuned_result = finetuned_predictor.predict(data)\n",
    "print(result)\n",
    "print(\"----------Fine Tuned------------\")\n",
    "print(result_finetuned)"
   ]
  },
  {
   "cell_type": "code",
   "execution_count": 56,
   "id": "c17ded8d-9fbb-4a0f-9211-d05bd223aada",
   "metadata": {},
   "outputs": [],
   "source": [
    "finetuned_predictor.delete_endpoint()\n",
    "predictor.delete_endpoint()"
   ]
  }
 ],
 "metadata": {
  "kernelspec": {
   "display_name": "Python 3 (ipykernel)",
   "language": "python",
   "name": "python3"
  },
  "language_info": {
   "codemirror_mode": {
    "name": "ipython",
    "version": 3
   },
   "file_extension": ".py",
   "mimetype": "text/x-python",
   "name": "python",
   "nbconvert_exporter": "python",
   "pygments_lexer": "ipython3",
   "version": "3.10.14"
  }
 },
 "nbformat": 4,
 "nbformat_minor": 5
}
